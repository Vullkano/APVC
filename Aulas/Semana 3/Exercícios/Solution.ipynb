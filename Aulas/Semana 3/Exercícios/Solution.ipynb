{
 "cells": [
  {
   "cell_type": "code",
   "execution_count": 2,
   "metadata": {},
   "outputs": [],
   "source": [
    "import cv2\n",
    "import numpy as np"
   ]
  },
  {
   "cell_type": "markdown",
   "metadata": {},
   "source": [
    "## Exercicio 1"
   ]
  },
  {
   "cell_type": "markdown",
   "metadata": {},
   "source": [
    "#### Considere a imagem “corruptedRect.png” (em anexo a estes exercícios): "
   ]
  },
  {
   "cell_type": "code",
   "execution_count": 3,
   "metadata": {},
   "outputs": [],
   "source": [
    "# https://docs.opencv.org/4.x/d9/d61/tutorial_py_morphological_ops.html\n",
    "\n",
    "# Carregar a imagem\n",
    "I = cv2.imread('images/corruptedRect.png', cv2.IMREAD_GRAYSCALE)\n",
    "\n",
    "# Verificar se a imagem foi carregada corretamente\n",
    "if I is None:\n",
    "    print(\"Erro ao carregar a imagem.\")\n",
    "else:\n",
    "    # Mostrar a imagem\n",
    "    cv2.imshow('Imagem', I)\n",
    "    cv2.waitKey(0)\n",
    "    cv2.destroyAllWindows() "
   ]
  },
  {
   "cell_type": "markdown",
   "metadata": {},
   "source": [
    "Utilizando  uma  sequência  de  operações  morfológicas  (possivelmente  com  elementos estruturantes  diferentes),  tente  obter  a  imagem  de  um  retângulo  branco  tão  perfeito quanto  o  possível  contra  um  fundo  totalmente  negro  –  o retângulo “perfeito” deverá ter uma área idêntica à da figura original. "
   ]
  },
  {
   "cell_type": "code",
   "execution_count": 4,
   "metadata": {},
   "outputs": [],
   "source": [
    "# Verificar se a imagem foi carregada corretamente\n",
    "if I is None:\n",
    "    print(\"Erro ao carregar a imagem.\")\n",
    "else:\n",
    "    # Binarizar a imagem (preto e branco)\n",
    "    _, binary_I = cv2.threshold(I, 127, 255, cv2.THRESH_BINARY)\n",
    "\n",
    "    # Definir um kernel retangular (elemento estruturante)\n",
    "    kernel = cv2.getStructuringElement(cv2.MORPH_RECT, (15, 15))\n",
    "\n",
    "    # Aplicar Erosão\n",
    "    erosion = cv2.erode(I,kernel,iterations = 1)\n",
    "\n",
    "    # Aplicar fechamento para preencher buracos internos\n",
    "    closed_I = cv2.morphologyEx(erosion, cv2.MORPH_CLOSE, kernel, iterations=3)\n",
    "\n",
    "    # Aplicar abertura para remover ruídos externos\n",
    "    opened_I = cv2.morphologyEx(closed_I, cv2.MORPH_OPEN, kernel, iterations=1)\n",
    "\n",
    "    # Mostrar as imagens\n",
    "    cv2.imshow('Original_I', I)\n",
    "    cv2.imshow('opened_I', opened_I)\n",
    "    cv2.waitKey(0)\n",
    "    cv2.destroyAllWindows()"
   ]
  },
  {
   "cell_type": "markdown",
   "metadata": {},
   "source": [
    "## Exercicio 2"
   ]
  },
  {
   "cell_type": "markdown",
   "metadata": {},
   "source": [
    "Mostre experimentalmente, testando com  uma imagem $I$ e com dois filtros $𝐹1$ e  $𝐹2$ à sua escolha, ambos com a mesma dimensão, que a seguinte igualdade é válida: \n"
   ]
  },
  {
   "cell_type": "markdown",
   "metadata": {},
   "source": [
    "$ 𝐼∗(𝐹1 +𝐹2)=(𝐼∗𝐹2)+(𝐼∗𝐹1)$ \n",
    "\n",
    "Notas:\n",
    "- Poderão existir pequenas diferenças devido a erros de arredondamento nos cálculos realizados; \n",
    "- Dependendo dos filtros utilizados, poderá ser necessário realizar as operações em matrizes **float32** em vez de **uint8**, para se poderem tratar resultados que saiam fora da gama [0, 255]. "
   ]
  },
  {
   "cell_type": "code",
   "execution_count": 5,
   "metadata": {},
   "outputs": [],
   "source": [
    "# Passo 1: Carregar a imagem (ou criar uma imagem de teste)\n",
    "\n",
    "# Carregar a imagem\n",
    "I = cv2.imread('images/spider-man.jpg')\n",
    "\n",
    "# Verificar se a imagem foi carregada corretamente\n",
    "if I is None:\n",
    "    print(\"Erro ao carregar a imagem.\")\n",
    "else:\n",
    "    # Redimensionar a imagem para 50% do tamanho original\n",
    "    scale_percent = 20  # percentagem do tamanho original\n",
    "    width = int(I.shape[1] * scale_percent / 100)\n",
    "    height = int(I.shape[0] * scale_percent / 100)\n",
    "    dim = (width, height)\n",
    "\n",
    "    I = cv2.resize(I, dim, interpolation=cv2.INTER_AREA)\n",
    "\n",
    "    # Mostrar a imagem\n",
    "    cv2.imshow('Imagem', I)\n",
    "    cv2.waitKey(0)\n",
    "    cv2.destroyAllWindows() "
   ]
  },
  {
   "cell_type": "code",
   "execution_count": 6,
   "metadata": {},
   "outputs": [
    {
     "name": "stdout",
     "output_type": "stream",
     "text": [
      "F1 + F2: \n",
      "[[ 2.  1.  0.]\n",
      " [ 1.  0. -1.]\n",
      " [ 0. -1. -2.]]\n"
     ]
    }
   ],
   "source": [
    "# Passo 2: Definir dois filtros (kernels) F1 e F2\n",
    "F1 = np.array([[1, 0, -1],\n",
    "               [1, 0, -1],\n",
    "               [1, 0, -1]], dtype=np.float32)  # Filtro de detecção de bordas verticais\n",
    "\n",
    "F2 = np.array([[1, 1, 1],\n",
    "               [0, 0, 0],\n",
    "               [-1, -1, -1]], dtype=np.float32)  # Filtro de detecção de bordas horizontais\n",
    "\n",
    "# Passo 3: Calcular F1 + F2\n",
    "F1_plus_F2 = F1 + F2\n",
    "print(\"F1 + F2: \\n\" + str(F1_plus_F2))\n",
    "\n",
    "# Passo 4: Aplicar convolução de F1 + F2 na imagem\n",
    "I_convolved_with_F1_plus_F2 = cv2.filter2D(I, -1, F1_plus_F2, borderType=cv2.BORDER_DEFAULT)\n",
    "\n",
    "# Normalizar para evitar estouro de valores e converter para uint8\n",
    "I_convolved_with_F1_plus_F2 = np.clip(I_convolved_with_F1_plus_F2, 0, 255).astype(np.uint8)\n",
    "\n",
    "# Mostrar a imagem\n",
    "cv2.imshow('I * (F1 + F2)', I_convolved_with_F1_plus_F2)\n",
    "cv2.waitKey(0)\n",
    "cv2.destroyAllWindows()"
   ]
  },
  {
   "cell_type": "code",
   "execution_count": 7,
   "metadata": {},
   "outputs": [],
   "source": [
    "# Passo 5: Aplicar convolução de I com F1 e I com F2, e somar os resultados\n",
    "I_convolved_with_F1 = cv2.filter2D(I, -1, F1, borderType=cv2.BORDER_DEFAULT)\n",
    "I_convolved_with_F2 = cv2.filter2D(I, -1, F2, borderType=cv2.BORDER_DEFAULT)\n",
    "\n",
    "# Somar convoluções corretamente (evitando estouro de valores)\n",
    "sum_of_convolutions = cv2.addWeighted(I_convolved_with_F1, 1, I_convolved_with_F2, 1, 0)\n",
    "\n",
    "# Normalizar e converter para uint8\n",
    "sum_of_convolutions = np.clip(sum_of_convolutions, 0, 255).astype(np.uint8)\n",
    "\n",
    "# Redimensionar imagens para garantir que têm as mesmas dimensões (se necessário)\n",
    "h, w = I.shape[:2]\n",
    "h, w = int(h * 0.55), int(w * 0.55)\n",
    "I_convolved_with_F1 = cv2.resize(I_convolved_with_F1, (w, h))\n",
    "I_convolved_with_F2 = cv2.resize(I_convolved_with_F2, (w, h))\n",
    "sum_of_convolutions_copy = cv2.resize(sum_of_convolutions.copy(), (w, h))\n",
    "\n",
    "# Concatenar horizontalmente\n",
    "combined = cv2.hconcat([I_convolved_with_F1, I_convolved_with_F2, sum_of_convolutions_copy])\n",
    "\n",
    "# Mostrar as imagens juntas\n",
    "cv2.imshow('I * F1 <> I * F2 <> (I * F1) + (I * F2)', combined)\n",
    "cv2.waitKey(0)\n",
    "cv2.destroyAllWindows()"
   ]
  },
  {
   "cell_type": "code",
   "execution_count": 8,
   "metadata": {},
   "outputs": [],
   "source": [
    "# Passo 6: Calcular a diferença entre I * (F1 + F2) e (I * F1) + (I * F2)\n",
    "difference = cv2.absdiff(I_convolved_with_F1_plus_F2, sum_of_convolutions)\n",
    "cv2.imshow('Diferença', difference)\n",
    "cv2.waitKey(0)\n",
    "cv2.destroyAllWindows()"
   ]
  },
  {
   "cell_type": "code",
   "execution_count": 9,
   "metadata": {},
   "outputs": [],
   "source": [
    "# Passo 7: Comparar os resultados\n",
    "# Função para adicionar rótulo à imagem\n",
    "def add_label(img, label):\n",
    "    fonte = cv2.FONT_HERSHEY_SIMPLEX\n",
    "    # Converter para BGR caso a imagem seja em escala de cinza\n",
    "    if len(img.shape) == 2:\n",
    "        img = cv2.cvtColor(img, cv2.COLOR_GRAY2BGR)\n",
    "    return cv2.putText(img, label, (10, 30), fonte, 1, (255, 255, 255), 2, cv2.LINE_AA)\n",
    "\n",
    "# Adicionar rótulos às imagens desejadas\n",
    "I_labeled = add_label(I.copy(), 'Original')\n",
    "I_conv_F1_plus_F2_labeled = add_label(I_convolved_with_F1_plus_F2.copy(), 'I * (F1+F2)')\n",
    "sum_conv_labeled = add_label(sum_of_convolutions.copy(), '(I * F1) + (I * F2)')\n",
    "diff_labeled = add_label(difference.copy(), 'Diferenca')\n",
    "\n",
    "# Função para redimensionar a imagem para uma percentagem do seu tamanho original\n",
    "def resize_image(img, scale_percent):\n",
    "    width = int(img.shape[1] * scale_percent / 100)\n",
    "    height = int(img.shape[0] * scale_percent / 100)\n",
    "    dim = (width, height)\n",
    "    return cv2.resize(img, dim, interpolation=cv2.INTER_AREA)\n",
    "\n",
    "# Reduzir todas as imagens para 50% do tamanho original (podes ajustar a percentagem)\n",
    "I_labeled = resize_image(I_labeled, 90)\n",
    "I_conv_F1_plus_F2_labeled = resize_image(I_conv_F1_plus_F2_labeled, 90)\n",
    "sum_conv_labeled = resize_image(sum_conv_labeled, 90)\n",
    "diff_labeled = resize_image(diff_labeled, 90)\n",
    "\n",
    "# Organizar as imagens numa matriz 2x2\n",
    "top_row = cv2.hconcat([sum_conv_labeled, I_conv_F1_plus_F2_labeled])\n",
    "bottom_row = cv2.hconcat([I_labeled, diff_labeled])\n",
    "final_image = cv2.vconcat([top_row, bottom_row])\n",
    "\n",
    "# Exibir a imagem final\n",
    "cv2.imshow('Resultados', final_image)\n",
    "cv2.waitKey(0)\n",
    "cv2.destroyAllWindows()"
   ]
  },
  {
   "cell_type": "markdown",
   "metadata": {},
   "source": [
    "# Exercício 3 (convolução, gradiente) "
   ]
  },
  {
   "cell_type": "markdown",
   "metadata": {},
   "source": [
    "Desenvolva um programa que calcula e mostra uma estimativa da magnitude do gradiente de uma imagem. Recorde que pode obter as componentes x e y do gradiente usando filtros de Sobel e que a magnitude do gradiente pode ser obtida calculando a norma  euclidiana (L2) entre as duas componentes.  \n",
    "Teste nas imagens “lastsupper.jpg” e “clocks.jpg”  fornecidas  em  anexo.  Tenha  cuidado com  os  formatos  numéricos  utilizados,  pois  a  aplicação  dos  filtros  de  Sobel  produz resultados fora de [0; 255]. "
   ]
  },
  {
   "cell_type": "code",
   "execution_count": null,
   "metadata": {},
   "outputs": [],
   "source": [
    "def calcular_gradiente(imagem_path):\n",
    "    # Carregar a imagem em escala de cinza\n",
    "    I = cv2.imread(imagem_path, cv2.IMREAD_GRAYSCALE)\n",
    "    if I is None:\n",
    "        print(\"Erro ao carregar a imagem.\")\n",
    "        return\n",
    "    \n",
    "    # Aplicar os filtros de Sobel para calcular as derivadas parciais\n",
    "    Gx = cv2.Sobel(I, cv2.CV_64F, 1, 0, ksize=3)  # Gradiente na direção x\n",
    "    Gy = cv2.Sobel(I, cv2.CV_64F, 0, 1, ksize=3)  # Gradiente na direção y\n",
    "    \n",
    "    # Calcular a magnitude do gradiente\n",
    "    magnitude = np.sqrt(Gx**2 + Gy**2)\n",
    "    \n",
    "    # Normalizar para o intervalo [0, 255] para exibição correta\n",
    "    magnitude = cv2.normalize(magnitude, None, 0, 255, cv2.NORM_MINMAX)\n",
    "    magnitude = np.uint8(magnitude)\n",
    "    \n",
    "    # Mostrar a imagem original e a magnitude do gradiente\n",
    "    cv2.imshow('Imagem Original', I)\n",
    "    cv2.imshow('Magnitude do Gradiente', magnitude)\n",
    "    cv2.waitKey(0)\n",
    "    cv2.destroyAllWindows()\n",
    "\n",
    "# Testar nas imagens fornecidas\n",
    "calcular_gradiente('images/lastsupper.jpg')\n",
    "# calcular_gradiente('images/clocks.jpg')\n"
   ]
  }
 ],
 "metadata": {
  "kernelspec": {
   "display_name": "base",
   "language": "python",
   "name": "python3"
  },
  "language_info": {
   "codemirror_mode": {
    "name": "ipython",
    "version": 3
   },
   "file_extension": ".py",
   "mimetype": "text/x-python",
   "name": "python",
   "nbconvert_exporter": "python",
   "pygments_lexer": "ipython3",
   "version": "3.11.5"
  }
 },
 "nbformat": 4,
 "nbformat_minor": 2
}
