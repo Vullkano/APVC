{
 "cells": [
  {
   "cell_type": "markdown",
   "metadata": {
    "vscode": {
     "languageId": "plaintext"
    }
   },
   "source": [
    "# APVC – Exercícios – Espaços de cor, Binarização"
   ]
  },
  {
   "cell_type": "code",
   "execution_count": 2,
   "metadata": {},
   "outputs": [],
   "source": [
    "### imports\n",
    "\n",
    "# ! pip install opencv-python\n",
    "import cv2\n",
    "import numpy as np"
   ]
  },
  {
   "cell_type": "markdown",
   "metadata": {
    "vscode": {
     "languageId": "powershell"
    }
   },
   "source": [
    "## Exercício 1 (acesso aos pixels, espaços de cor)"
   ]
  },
  {
   "cell_type": "markdown",
   "metadata": {},
   "source": [
    "Desenvolva um script em Python que lê uma imagem e calcula o seu “negativo” na parte\n",
    "da imagem correspondente a um quadrado (ou retângulo) centrado. As dimensões do\n",
    "quadrado (ou retângulo) correspondem a metade das resoluções da imagem original."
   ]
  },
  {
   "cell_type": "code",
   "execution_count": 3,
   "metadata": {},
   "outputs": [
    {
     "data": {
      "text/plain": [
       "(512, 512, 3)"
      ]
     },
     "execution_count": 3,
     "metadata": {},
     "output_type": "execute_result"
    }
   ],
   "source": [
    "img = cv2.imread(\"images/lenna.png\")\n",
    "img.shape"
   ]
  },
  {
   "cell_type": "code",
   "execution_count": 4,
   "metadata": {},
   "outputs": [],
   "source": [
    "# Definir tamanho do recorte\n",
    "n = 150\n",
    "\n",
    "# Clonar a imagem original para modificar\n",
    "imgMasked = img.copy()\n",
    "\n",
    "# Coordenadas do centro\n",
    "x_center, y_center = img.shape[1] // 2, img.shape[0] // 2\n",
    "\n",
    "# Recortar a região central\n",
    "imgCrop = img[y_center - n:y_center + n, x_center - n:x_center + n]\n",
    "\n",
    "# Inverter as cores do recorte\n",
    "imgCrop = cv2.bitwise_not(imgCrop)\n",
    "\n",
    "# Substituir a região original pela versão invertida\n",
    "imgMasked[y_center - n:y_center + n, x_center - n:x_center + n] = imgCrop\n",
    "\n",
    "# Mostrar as imagens\n",
    "cv2.imshow(\"Masked Image\", imgMasked)\n",
    "cv2.waitKey(0)\n",
    "cv2.destroyAllWindows()\n"
   ]
  },
  {
   "cell_type": "markdown",
   "metadata": {},
   "source": [
    "## Exercício 2 (acesso aos pixels, conversões entre espaços de cor)"
   ]
  },
  {
   "cell_type": "markdown",
   "metadata": {},
   "source": [
    "Pretende-se construir uma imagem que mostra a evolução da tonalidade das cores à\n",
    "medida que se varia a componente Hue, mantendo a Saturation e Value com valores\n",
    "constantes (255)."
   ]
  },
  {
   "cell_type": "code",
   "execution_count": 5,
   "metadata": {},
   "outputs": [
    {
     "data": {
      "text/plain": [
       "array([[  0,   0,   0, ..., 178, 178, 179],\n",
       "       [  0,   0,   0, ..., 178, 178, 179],\n",
       "       [  0,   0,   0, ..., 178, 178, 179],\n",
       "       ...,\n",
       "       [  0,   0,   0, ..., 178, 178, 179],\n",
       "       [  0,   0,   0, ..., 178, 178, 179],\n",
       "       [  0,   0,   0, ..., 178, 178, 179]], dtype=uint8)"
      ]
     },
     "execution_count": 5,
     "metadata": {},
     "output_type": "execute_result"
    }
   ],
   "source": [
    "altura = 500\n",
    "largura = 1080\n",
    "\n",
    "hue = np.tile(np.linspace(0, 179, largura, dtype=np.uint8), (altura, 1))\n",
    "hue"
   ]
  },
  {
   "cell_type": "code",
   "execution_count": 6,
   "metadata": {},
   "outputs": [
    {
     "name": "stdout",
     "output_type": "stream",
     "text": [
      "[[[  0 255 255]\n",
      "  [  0 255 255]\n",
      "  [  0 255 255]\n",
      "  ...\n",
      "  [178 255 255]\n",
      "  [178 255 255]\n",
      "  [179 255 255]]\n",
      "\n",
      " [[  0 255 255]\n",
      "  [  0 255 255]\n",
      "  [  0 255 255]\n",
      "  ...\n",
      "  [178 255 255]\n",
      "  [178 255 255]\n",
      "  [179 255 255]]\n",
      "\n",
      " [[  0 255 255]\n",
      "  [  0 255 255]\n",
      "  [  0 255 255]\n",
      "  ...\n",
      "  [178 255 255]\n",
      "  [178 255 255]\n",
      "  [179 255 255]]\n",
      "\n",
      " ...\n",
      "\n",
      " [[  0 255 255]\n",
      "  [  0 255 255]\n",
      "  [  0 255 255]\n",
      "  ...\n",
      "  [178 255 255]\n",
      "  [178 255 255]\n",
      "  [179 255 255]]\n",
      "\n",
      " [[  0 255 255]\n",
      "  [  0 255 255]\n",
      "  [  0 255 255]\n",
      "  ...\n",
      "  [178 255 255]\n",
      "  [178 255 255]\n",
      "  [179 255 255]]\n",
      "\n",
      " [[  0 255 255]\n",
      "  [  0 255 255]\n",
      "  [  0 255 255]\n",
      "  ...\n",
      "  [178 255 255]\n",
      "  [178 255 255]\n",
      "  [179 255 255]]]\n"
     ]
    }
   ],
   "source": [
    "# Criar matriz para os canais Saturação (S) e Valor (V), fixos em 255\n",
    "saturation = np.full((altura, largura), 255, dtype=np.uint8)\n",
    "value = np.full((altura, largura), 255, dtype=np.uint8)\n",
    "\n",
    "# Juntar os canais H, S e V\n",
    "hsv_image = cv2.merge([hue, saturation, value])\n",
    "print(hsv_image)\n",
    "\n",
    "# Converter para BGR\n",
    "bgr_image = cv2.cvtColor(hsv_image, cv2.COLOR_HSV2BGR)"
   ]
  },
  {
   "cell_type": "code",
   "execution_count": 7,
   "metadata": {},
   "outputs": [],
   "source": [
    "# Mostrar a imagem\n",
    "cv2.imshow(\"Hue Gradient\", bgr_image)\n",
    "cv2.waitKey(0)\n",
    "cv2.destroyAllWindows()"
   ]
  },
  {
   "cell_type": "markdown",
   "metadata": {},
   "source": [
    "## Exercício 3 (espaços de cor, binarização e máscaras)"
   ]
  },
  {
   "cell_type": "markdown",
   "metadata": {},
   "source": [
    "Utilize máscaras binárias de forma a conseguir que, a partir de uma imagem com múltiplos objetos coloridos, se consiga chegar a uma imagem onde apareçam os objetos de uma determinada cor, ficando o resto da imagem a preto."
   ]
  },
  {
   "cell_type": "markdown",
   "metadata": {},
   "source": [
    "### 3.1. De forma automática"
   ]
  },
  {
   "cell_type": "code",
   "execution_count": 8,
   "metadata": {},
   "outputs": [],
   "source": [
    "# Função para verificar se o valor HUE da matriz está dentro do intervalo de cores\n",
    "def isColorHue(value, color=\"blue\"):\n",
    "    if not (0 <= value <= 255):\n",
    "        raise ValueError(\"O valor deve estar no intervalo [0, 255].\")\n",
    "\n",
    "    color_ranges = {\n",
    "        \"red\": (0, 10) or (170, 255),  # Tons de vermelho estão nos extremos do círculo de matizes\n",
    "        \"orange\": (10, 25),\n",
    "        \"yellow\": (25, 45),\n",
    "        \"green\": (45, 85),\n",
    "        \"cyan\": (85, 105),\n",
    "        \"blue\": (105, 135),\n",
    "        \"magenta\": (135, 165),\n",
    "        \"pink\": (165, 185),\n",
    "        \"purple\": (185, 200)\n",
    "    }\n",
    "\n",
    "    if color not in color_ranges:\n",
    "        raise ValueError(f\"Cor inválida: {color}. Escolha entre {', '.join(color_ranges.keys())}.\")\n",
    "\n",
    "    min_val, max_val = color_ranges[color]\n",
    "\n",
    "    # Caso especial para o vermelho, que está nos extremos do espectro circular\n",
    "    if color == \"red\":\n",
    "        return (0 <= value <= 10) or (170 <= value <= 255)\n",
    "    else:\n",
    "        return min_val <= value <= max_val\n",
    "\n",
    "def calcular_threshold(array, coluna):\n",
    "    media = np.mean(array[..., coluna])\n",
    "    desvio = np.std(array[..., coluna])\n",
    "    lim_inf = media - desvio  # Limite inferior\n",
    "    return lim_inf\n"
   ]
  },
  {
   "cell_type": "code",
   "execution_count": 28,
   "metadata": {},
   "outputs": [
    {
     "data": {
      "text/plain": [
       "array([[[177, 252, 245],\n",
       "        [177, 254, 243],\n",
       "        [177, 255, 244],\n",
       "        ...,\n",
       "        [ 26, 243,   0],\n",
       "        [ 26, 227,   0],\n",
       "        [ 26, 232,   0]],\n",
       "\n",
       "       [[177, 252, 243],\n",
       "        [177, 254, 243],\n",
       "        [177, 255, 242],\n",
       "        ...,\n",
       "        [ 26, 225,   0],\n",
       "        [ 26, 228,   0],\n",
       "        [ 26, 233,   0]],\n",
       "\n",
       "       [[177, 251, 242],\n",
       "        [177, 254, 239],\n",
       "        [177, 255, 239],\n",
       "        ...,\n",
       "        [ 26, 218,   0],\n",
       "        [ 26, 229,   0],\n",
       "        [ 26, 234,   0]],\n",
       "\n",
       "       ...,\n",
       "\n",
       "       [[178, 217, 226],\n",
       "        [179, 197, 234],\n",
       "        [  2, 219, 200],\n",
       "        ...,\n",
       "        [179, 253, 166],\n",
       "        [  0, 255, 163],\n",
       "        [  0, 255, 161]],\n",
       "\n",
       "       [[178, 208, 233],\n",
       "        [179, 214, 213],\n",
       "        [  3, 227, 188],\n",
       "        ...,\n",
       "        [179, 253, 166],\n",
       "        [  0, 252, 162],\n",
       "        [  1, 255, 161]],\n",
       "\n",
       "       [[179, 218, 223],\n",
       "        [  0, 237, 189],\n",
       "        [  3, 220, 188],\n",
       "        ...,\n",
       "        [  0, 250, 163],\n",
       "        [  0, 250, 162],\n",
       "        [  0, 250, 160]]], dtype=uint8)"
      ]
     },
     "execution_count": 28,
     "metadata": {},
     "output_type": "execute_result"
    }
   ],
   "source": [
    "img = cv2.imread(\"images/legos.jpg\")\n",
    "img.shape\n",
    "\n",
    "hsv_img = cv2.cvtColor(img, cv2.COLOR_BGR2HSV)\n",
    "\n",
    "tresholdSat = calcular_threshold(hsv_img, 1) * 0.65\n",
    "tresholdVal = calcular_threshold(hsv_img, 2) * 0.65\n",
    "for i in hsv_img:\n",
    "    for j in i:\n",
    "        if not isColorHue(j[0], \"red\"):\n",
    "            j[2] = 0\n",
    "        if j[1] < tresholdSat:\n",
    "            j[2] = 0\n",
    "        if j[2] < tresholdVal:\n",
    "            j[2] = 0\n",
    "hsv_img"
   ]
  },
  {
   "cell_type": "code",
   "execution_count": null,
   "metadata": {},
   "outputs": [],
   "source": [
    "# Converter para BGR\n",
    "bgr_image = cv2.cvtColor(hsv_img, cv2.COLOR_HSV2BGR)\n",
    "cv2.imshow(\"bgr_image\", bgr_image)\n",
    "cv2.imshow(\"og_image\", img)\n",
    "cv2.waitKey(0)\n",
    "cv2.destroyAllWindows()"
   ]
  },
  {
   "cell_type": "markdown",
   "metadata": {},
   "source": [
    "### 3.1. De forma manual"
   ]
  },
  {
   "cell_type": "code",
   "execution_count": 10,
   "metadata": {},
   "outputs": [],
   "source": [
    "import cv2\n",
    "import numpy as np\n",
    "\n",
    "# Carregar a imagem\n",
    "img = cv2.imread(\"images/legos.jpg\")\n",
    "\n",
    "# Converter para HSV\n",
    "hsv_img = cv2.cvtColor(img, cv2.COLOR_BGR2HSV)\n",
    "\n",
    "# Dicionário com os intervalos de matizes para cada cor\n",
    "color_ranges = {\n",
    "    \"red\": [(0, 10), (170, 180)],  # Nota: O intervalo superior do vermelho foi ajustado para 180\n",
    "    \"orange\": [(10, 25)],\n",
    "    \"yellow\": [(25, 45)],\n",
    "    \"green\": [(45, 85)],\n",
    "    \"cyan\": [(85, 105)],\n",
    "    \"blue\": [(105, 135)],\n",
    "    \"magenta\": [(135, 165)],\n",
    "    \"pink\": [(165, 185)],\n",
    "    \"purple\": [(185, 200)]\n",
    "}\n",
    "\n",
    "# Função para obter a máscara com base na cor pretendida\n",
    "def get_color_mask(hsv_img, color):\n",
    "    if color not in color_ranges:\n",
    "        raise ValueError(\"Cor inválida. Escolha uma cor existente.\")\n",
    "    \n",
    "    masks = []\n",
    "    for (lower, upper) in color_ranges[color]:\n",
    "        lower_bound = np.array([lower, 100, 100])\n",
    "        upper_bound = np.array([upper, 255, 255])\n",
    "        mask = cv2.inRange(hsv_img, lower_bound, upper_bound)\n",
    "        masks.append(mask)\n",
    "    \n",
    "    full_mask = masks[0]\n",
    "    if len(masks) > 1:\n",
    "        for m in masks[1:]:\n",
    "            full_mask = cv2.bitwise_or(full_mask, m)\n",
    "    \n",
    "    return full_mask\n",
    "\n",
    "# Selecionar a cor pretendida: \"blue\" (azul)\n",
    "color = \"blue\"\n",
    "mask = get_color_mask(hsv_img, color)\n",
    "\n",
    "# Aplicar a máscara à imagem original\n",
    "blue_only = cv2.bitwise_and(img, img, mask=mask)\n",
    "\n",
    "# Separar os canais HSV (se necessário)\n",
    "h, s, v = cv2.split(hsv_img)\n",
    "\n",
    "# Mostrar os resultados\n",
    "cv2.imshow(\"Imagem Original\", img)\n",
    "cv2.imshow(f\"Máscara {color}\", mask)\n",
    "cv2.imshow(f\"Apenas {color}\", blue_only)\n",
    "cv2.waitKey(0)\n",
    "cv2.destroyAllWindows()"
   ]
  },
  {
   "cell_type": "markdown",
   "metadata": {},
   "source": [
    "- - -"
   ]
  }
 ],
 "metadata": {
  "kernelspec": {
   "display_name": "base",
   "language": "python",
   "name": "python3"
  },
  "language_info": {
   "codemirror_mode": {
    "name": "ipython",
    "version": 3
   },
   "file_extension": ".py",
   "mimetype": "text/x-python",
   "name": "python",
   "nbconvert_exporter": "python",
   "pygments_lexer": "ipython3",
   "version": "3.12.4"
  }
 },
 "nbformat": 4,
 "nbformat_minor": 2
}
