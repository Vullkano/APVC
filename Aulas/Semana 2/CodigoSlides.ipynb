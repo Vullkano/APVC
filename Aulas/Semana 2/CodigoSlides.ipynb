{
 "cells": [
  {
   "cell_type": "markdown",
   "metadata": {},
   "source": [
    "# Semana 2 - Código dos Slides"
   ]
  },
  {
   "cell_type": "markdown",
   "metadata": {},
   "source": [
    "### imports"
   ]
  },
  {
   "cell_type": "code",
   "execution_count": 1,
   "metadata": {},
   "outputs": [],
   "source": [
    "# ! pip install opencv-python\n",
    "import cv2\n",
    "import numpy as np"
   ]
  },
  {
   "cell_type": "markdown",
   "metadata": {},
   "source": [
    "## 1. Ler e guardar imagens"
   ]
  },
  {
   "cell_type": "markdown",
   "metadata": {},
   "source": [
    "## 1.1. Ler uma imagem do disco"
   ]
  },
  {
   "cell_type": "code",
   "execution_count": 2,
   "metadata": {},
   "outputs": [
    {
     "name": "stdout",
     "output_type": "stream",
     "text": [
      "[[[236 200 162]\n",
      "  [236 200 162]\n",
      "  [236 200 162]\n",
      "  ...\n",
      "  [250 225 183]\n",
      "  [250 225 183]\n",
      "  [252 224 183]]\n",
      "\n",
      " [[236 200 162]\n",
      "  [236 200 162]\n",
      "  [236 200 162]\n",
      "  ...\n",
      "  [250 225 183]\n",
      "  [250 225 183]\n",
      "  [252 224 183]]\n",
      "\n",
      " [[236 200 162]\n",
      "  [236 200 162]\n",
      "  [236 200 162]\n",
      "  ...\n",
      "  [250 225 183]\n",
      "  [250 225 183]\n",
      "  [252 224 183]]\n",
      "\n",
      " ...\n",
      "\n",
      " [[ 24 117  78]\n",
      "  [ 23 116  77]\n",
      "  [ 23 116  77]\n",
      "  ...\n",
      "  [ 21 125  92]\n",
      "  [ 21 125  92]\n",
      "  [ 21 125  92]]\n",
      "\n",
      " [[ 24 117  78]\n",
      "  [ 24 117  78]\n",
      "  [ 24 117  78]\n",
      "  ...\n",
      "  [ 21 125  92]\n",
      "  [ 21 125  92]\n",
      "  [ 21 125  92]]\n",
      "\n",
      " [[ 25 118  79]\n",
      "  [ 25 118  79]\n",
      "  [ 24 117  78]\n",
      "  ...\n",
      "  [ 21 125  92]\n",
      "  [ 21 125  92]\n",
      "  [ 21 125  92]]]\n"
     ]
    }
   ],
   "source": [
    "# lê a imagem flower.jpg, do diretório images, e carrega-a na matriz img\n",
    "img = cv2.imread(\"images/flower.jpg\")\n",
    "print(img)"
   ]
  },
  {
   "cell_type": "code",
   "execution_count": 3,
   "metadata": {},
   "outputs": [
    {
     "name": "stdout",
     "output_type": "stream",
     "text": [
      "[[193 193 193 ... 215 215 215]\n",
      " [193 193 193 ... 215 215 215]\n",
      " [193 193 193 ... 215 215 215]\n",
      " ...\n",
      " [ 95  94  94 ... 103 103 103]\n",
      " [ 95  95  95 ... 103 103 103]\n",
      " [ 96  96  95 ... 103 103 103]]\n"
     ]
    }
   ],
   "source": [
    "# lê a imagem, converte-a para tons de cinzento, e carrega-a na matriz imgGray\n",
    "imgGray = cv2.imread(\"images/flower.jpg\", cv2.IMREAD_GRAYSCALE)\n",
    "print(imgGray)"
   ]
  },
  {
   "cell_type": "markdown",
   "metadata": {},
   "source": [
    "## 1.2. Escrever uma imagem no disco"
   ]
  },
  {
   "cell_type": "code",
   "execution_count": 4,
   "metadata": {},
   "outputs": [
    {
     "data": {
      "text/plain": [
       "True"
      ]
     },
     "execution_count": 4,
     "metadata": {},
     "output_type": "execute_result"
    }
   ],
   "source": [
    "# grava a imagem img no ficheiro flower.png (usa a extensão para saber o formato da imagem a escrever)\n",
    "cv2.imwrite(\"images/flowerGrey.png\",imgGray)"
   ]
  },
  {
   "cell_type": "markdown",
   "metadata": {},
   "source": [
    "## 2. Mostrar uma imagem"
   ]
  },
  {
   "cell_type": "code",
   "execution_count": 5,
   "metadata": {},
   "outputs": [],
   "source": [
    "img = cv2.imread(\"images/lenna.png\")\n",
    "# O primeiro argumento é o título da janela a criar\n",
    "cv2.imshow(\"Imagem de teste\", img)\n",
    "# Espera que se carregue numa tecla antes de sair\n",
    "cv2.waitKey(0)\n",
    "cv2.destroyAllWindows()"
   ]
  },
  {
   "cell_type": "markdown",
   "metadata": {},
   "source": [
    "> Nota – caso não se use waitKey(…), a janela aparece e desaparece quase imediatamente, porque o programa entretanto chega ao fim…"
   ]
  },
  {
   "cell_type": "markdown",
   "metadata": {},
   "source": [
    "## 3. Criar imagens (ou melhor, matrizes)"
   ]
  },
  {
   "cell_type": "markdown",
   "metadata": {},
   "source": [
    "> Para criar imagens novas podem-se simplesmente criar matrizes com as funções zeros(…) e ones(…) do Numpy (ou similares)"
   ]
  },
  {
   "cell_type": "code",
   "execution_count": null,
   "metadata": {},
   "outputs": [],
   "source": [
    "height = 720\n",
    "width = 1800\n",
    "n = 5\n",
    "\n",
    "# cria uma imagem img3 de width x height pixels, com 3 canais de cor, com os pixels inicializados a n\n",
    "img1 = np.zeros( (height, width, 3), np.uint8 ) * (1 if n == 0 else n)\n",
    "\n",
    "cv2.imshow(\"Imagem de teste\", img1)\n",
    "cv2.waitKey(0)\n",
    "cv2.destroyAllWindows()"
   ]
  },
  {
   "cell_type": "markdown",
   "metadata": {},
   "source": [
    "## 4. Aceder aos pixels"
   ]
  },
  {
   "cell_type": "code",
   "execution_count": null,
   "metadata": {},
   "outputs": [],
   "source": [
    "# obter o(s) valor(es) do pixel na posição y=100, x=50\n",
    "px = img[100, 50]\n",
    "# escrever 0’s (preto) nas três componentes do pixel na linha 60, coluna 25\n",
    "img[60, 25] = (0, 0, 0)\n",
    "\n",
    "cv2.imshow(\"Imagem de teste\", img)\n",
    "cv2.waitKey(0)\n",
    "cv2.destroyAllWindows()"
   ]
  },
  {
   "cell_type": "markdown",
   "metadata": {
    "vscode": {
     "languageId": "powershell"
    }
   },
   "source": [
    "## 5. Atributos das matrizes Numpy"
   ]
  },
  {
   "cell_type": "code",
   "execution_count": 14,
   "metadata": {},
   "outputs": [
    {
     "name": "stdout",
     "output_type": "stream",
     "text": [
      "ndim: 3\n",
      "shape: (512, 512, 3)\n",
      "size: 786432\n",
      "dtype: uint8\n",
      "itemsize: 1\n"
     ]
    }
   ],
   "source": [
    "mg = cv2.imread(\"images/flower.jpg\")\n",
    "print(f\"ndim: {img.ndim}\")\n",
    "print(f\"shape: {img.shape}\")\n",
    "print(f\"size: {img.size}\")\n",
    "print(f\"dtype: {img.dtype}\")\n",
    "print(f\"itemsize: {img.itemsize}\")"
   ]
  }
 ],
 "metadata": {
  "kernelspec": {
   "display_name": "base",
   "language": "python",
   "name": "python3"
  },
  "language_info": {
   "codemirror_mode": {
    "name": "ipython",
    "version": 3
   },
   "file_extension": ".py",
   "mimetype": "text/x-python",
   "name": "python",
   "nbconvert_exporter": "python",
   "pygments_lexer": "ipython3",
   "version": "3.12.4"
  }
 },
 "nbformat": 4,
 "nbformat_minor": 2
}
